{
  "nbformat": 4,
  "nbformat_minor": 0,
  "metadata": {
    "colab": {
      "name": "leaf_disease_detection_fasterRCNN_colab.ipynb",
      "provenance": []
    },
    "kernelspec": {
      "name": "python3",
      "display_name": "Python 3"
    },
    "accelerator": "GPU"
  },
  "cells": [
    {
      "cell_type": "code",
      "metadata": {
        "id": "DqqfnuCAgCEs",
        "colab_type": "code",
        "colab": {}
      },
      "source": [
        "from google.colab import drive\n",
        "drive.mount('/content/gdrive/',force_remount=True)"
      ],
      "execution_count": null,
      "outputs": []
    },
    {
      "cell_type": "code",
      "metadata": {
        "id": "c_IgqVo6gLJK",
        "colab_type": "code",
        "colab": {}
      },
      "source": [
        "!pip install keras==2.0.3\n",
        "!pip install tensorflow==1.15.0"
      ],
      "execution_count": null,
      "outputs": []
    },
    {
      "cell_type": "code",
      "metadata": {
        "id": "qijlOqgRFd21",
        "colab_type": "code",
        "colab": {}
      },
      "source": [
        "%cd /content/gdrive/My Drive/"
      ],
      "execution_count": null,
      "outputs": []
    },
    {
      "cell_type": "markdown",
      "metadata": {
        "id": "j8iFELK7FZa9",
        "colab_type": "text"
      },
      "source": [
        "Clone the git repository and upload your training images and respective annotated xml files. Also generate the train.txt file using the data_preprop.py file. "
      ]
    },
    {
      "cell_type": "code",
      "metadata": {
        "id": "KO7TpYbUFUad",
        "colab_type": "code",
        "colab": {}
      },
      "source": [
        "!git clone https://github.com/ILAN-Solutions/leaf-disease-using-faster-rcnn.git "
      ],
      "execution_count": null,
      "outputs": []
    },
    {
      "cell_type": "code",
      "metadata": {
        "id": "_bbcyALqGO9x",
        "colab_type": "code",
        "colab": {}
      },
      "source": [
        "%cd leaf-disease-using-faster-rcnn"
      ],
      "execution_count": null,
      "outputs": []
    },
    {
      "cell_type": "code",
      "metadata": {
        "id": "jDE2FPLGgO-R",
        "colab_type": "code",
        "colab": {}
      },
      "source": [
        "!python data_preprop.py --path train_dir --output train.txt"
      ],
      "execution_count": null,
      "outputs": []
    },
    {
      "cell_type": "markdown",
      "metadata": {
        "id": "14NhYQzOGzjD",
        "colab_type": "text"
      },
      "source": [
        "Now start training."
      ]
    },
    {
      "cell_type": "code",
      "metadata": {
        "id": "N96gNVGSgWCS",
        "colab_type": "code",
        "colab": {}
      },
      "source": [
        "!python train_frcnn.py -o simple –p train.txt --hf --rot --num_epochs 50"
      ],
      "execution_count": null,
      "outputs": []
    },
    {
      "cell_type": "markdown",
      "metadata": {
        "id": "4-U_Qw67Gy5_",
        "colab_type": "text"
      },
      "source": [
        " Colab disconnects after 10-12 hours of GPU training, so you have to reconnect again. So if it disconnects the add the previously saved weights as input weights when running again. \n",
        " "
      ]
    },
    {
      "cell_type": "code",
      "metadata": {
        "id": "e7LO7dZugWGQ",
        "colab_type": "code",
        "colab": {}
      },
      "source": [
        "#!python train_frcnn.py -o simple -p train.txt --hf --rot --num_epochs 50 --input_weight_path ./model_frcnn.hdf5"
      ],
      "execution_count": null,
      "outputs": []
    },
    {
      "cell_type": "markdown",
      "metadata": {
        "id": "4-uLoeoTHj_X",
        "colab_type": "text"
      },
      "source": [
        "To test the data on validation set and get the mAP scores the run the measure_map with validation.txt as input (generate the text file like you did for the training data.)"
      ]
    },
    {
      "cell_type": "code",
      "metadata": {
        "id": "DbIqMoB4H89a",
        "colab_type": "code",
        "colab": {}
      },
      "source": [
        "!python data_preprop.py --path validation_dir --output validation.txt #Validation_dir should contain the images and it's respective annotation xml files. "
      ],
      "execution_count": null,
      "outputs": []
    },
    {
      "cell_type": "code",
      "metadata": {
        "id": "AfyzeXhWHkRq",
        "colab_type": "code",
        "colab": {}
      },
      "source": [
        "!python measure_map.py -o simple -p validation.txt"
      ],
      "execution_count": null,
      "outputs": []
    },
    {
      "cell_type": "markdown",
      "metadata": {
        "id": "Lsp3AavSHkdF",
        "colab_type": "text"
      },
      "source": [
        "Visualise the results on your test images and videos, run the"
      ]
    },
    {
      "cell_type": "code",
      "metadata": {
        "id": "tZYCwG7-HkqB",
        "colab_type": "code",
        "colab": {}
      },
      "source": [
        "!python test_frcnn.py -p validation #The test_dir should contain images only, no need for xml files and the output images gets stored at results_imgs dir."
      ],
      "execution_count": null,
      "outputs": []
    },
    {
      "cell_type": "code",
      "metadata": {
        "id": "1neCVrNVI4qb",
        "colab_type": "code",
        "colab": {}
      },
      "source": [
        "!python video_stream.py -p test_video.mp4 "
      ],
      "execution_count": null,
      "outputs": []
    }
  ]
}